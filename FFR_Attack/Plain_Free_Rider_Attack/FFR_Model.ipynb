{
 "cells": [
  {
   "cell_type": "markdown",
   "metadata": {},
   "source": [
    "# Cài đặt các thư viện cần thiết"
   ]
  },
  {
   "cell_type": "code",
   "execution_count": 2,
   "metadata": {
    "id": "rANUVwZ5z8G1"
   },
   "outputs": [],
   "source": [
    "!pip install -q flwr[simulation]  pandas matplotlib scikit-learn torch"
   ]
  },
  {
   "cell_type": "code",
   "execution_count": 3,
   "metadata": {
    "colab": {
     "base_uri": "https://localhost:8080/"
    },
    "id": "hNob57rk0t1z",
    "outputId": "9f326564-c44d-408e-831e-4a6e84cb9190"
   },
   "outputs": [
    {
     "name": "stdout",
     "output_type": "stream",
     "text": [
      "Training on cpu\n",
      "Flower 1.13.0 / PyTorch 2.5.1\n"
     ]
    }
   ],
   "source": [
    "from collections import OrderedDict\n",
    "from typing import List, Tuple\n",
    "from collections import Counter\n",
    "\n",
    "import matplotlib.pyplot as plt\n",
    "import numpy as np\n",
    "import torch\n",
    "import torch.nn as nn\n",
    "import torch.nn.functional as F\n",
    "from torch.utils.data import DataLoader, Dataset\n",
    "import pandas as pd\n",
    "from sklearn.model_selection import train_test_split\n",
    "from sklearn.feature_extraction.text import TfidfVectorizer\n",
    "\n",
    "import pickle\n",
    "\n",
    "import flwr\n",
    "from flwr.client import Client, ClientApp, NumPyClient\n",
    "from flwr.common import Metrics, Context\n",
    "from flwr.server import ServerApp, ServerConfig, ServerAppComponents\n",
    "from flwr.server.strategy import FedAvg\n",
    "from flwr.simulation import run_simulation\n",
    "from flwr.server.client_proxy import ClientProxy\n",
    "from flwr.common import Parameters, Scalar, FitRes, parameters_to_ndarrays\n",
    "from typing import Optional, Union\n",
    "\n",
    "DEVICE = torch.device(\"cpu\")  # Try \"cuda\" to train on GPU\n",
    "print(f\"Training on {DEVICE}\")\n",
    "print(f\"Flower {flwr.__version__} / PyTorch {torch.__version__}\")\n"
   ]
  },
  {
   "cell_type": "code",
   "execution_count": 4,
   "metadata": {
    "id": "Xt47Dal628rM"
   },
   "outputs": [],
   "source": [
    "# Cấu hình thiết bị (CUDA hoặc CPU)\n",
    "DEVICE = torch.device(\"cuda\" if torch.cuda.is_available() else \"cpu\")"
   ]
  },
  {
   "cell_type": "code",
   "execution_count": 5,
   "metadata": {},
   "outputs": [],
   "source": [
    "BATCH_SIZE = 16\n",
    "NUM_CLIENTS = 10"
   ]
  },
  {
   "cell_type": "markdown",
   "metadata": {},
   "source": [
    "# Dataset"
   ]
  },
  {
   "cell_type": "code",
   "execution_count": 6,
   "metadata": {
    "colab": {
     "base_uri": "https://localhost:8080/",
     "height": 206
    },
    "id": "QsCL7xCsGtG1",
    "outputId": "7e41b7c9-e272-4683-9368-0c14f5a7ac97"
   },
   "outputs": [],
   "source": [
    "# Đường dẫn đến tập dữ liệu\n",
    "DATA_PATH = r\"..\\..\\data\\SMSSpamCollection\"\n",
    "\n",
    "# Đọc dữ liệu\n",
    "data = pd.read_csv(DATA_PATH, sep='\\t', header=None, names=[\"label\", \"text\"])\n",
    "\n",
    "# Chuyển đổi nhãn 'ham' và 'spam' thành 0 và 1\n",
    "data[\"label\"] = data[\"label\"].map({\"ham\": 0, \"spam\": 1})\n"
   ]
  },
  {
   "cell_type": "code",
   "execution_count": 7,
   "metadata": {},
   "outputs": [
    {
     "name": "stdout",
     "output_type": "stream",
     "text": [
      "Number of rows in the dataset: 5572\n"
     ]
    },
    {
     "data": {
      "text/html": [
       "<div>\n",
       "<style scoped>\n",
       "    .dataframe tbody tr th:only-of-type {\n",
       "        vertical-align: middle;\n",
       "    }\n",
       "\n",
       "    .dataframe tbody tr th {\n",
       "        vertical-align: top;\n",
       "    }\n",
       "\n",
       "    .dataframe thead th {\n",
       "        text-align: right;\n",
       "    }\n",
       "</style>\n",
       "<table border=\"1\" class=\"dataframe\">\n",
       "  <thead>\n",
       "    <tr style=\"text-align: right;\">\n",
       "      <th></th>\n",
       "      <th>label</th>\n",
       "      <th>text</th>\n",
       "    </tr>\n",
       "  </thead>\n",
       "  <tbody>\n",
       "    <tr>\n",
       "      <th>0</th>\n",
       "      <td>0</td>\n",
       "      <td>Go until jurong point, crazy.. Available only ...</td>\n",
       "    </tr>\n",
       "    <tr>\n",
       "      <th>1</th>\n",
       "      <td>0</td>\n",
       "      <td>Ok lar... Joking wif u oni...</td>\n",
       "    </tr>\n",
       "    <tr>\n",
       "      <th>2</th>\n",
       "      <td>1</td>\n",
       "      <td>Free entry in 2 a wkly comp to win FA Cup fina...</td>\n",
       "    </tr>\n",
       "    <tr>\n",
       "      <th>3</th>\n",
       "      <td>0</td>\n",
       "      <td>U dun say so early hor... U c already then say...</td>\n",
       "    </tr>\n",
       "    <tr>\n",
       "      <th>4</th>\n",
       "      <td>0</td>\n",
       "      <td>Nah I don't think he goes to usf, he lives aro...</td>\n",
       "    </tr>\n",
       "  </tbody>\n",
       "</table>\n",
       "</div>"
      ],
      "text/plain": [
       "   label                                               text\n",
       "0      0  Go until jurong point, crazy.. Available only ...\n",
       "1      0                      Ok lar... Joking wif u oni...\n",
       "2      1  Free entry in 2 a wkly comp to win FA Cup fina...\n",
       "3      0  U dun say so early hor... U c already then say...\n",
       "4      0  Nah I don't think he goes to usf, he lives aro..."
      ]
     },
     "execution_count": 7,
     "metadata": {},
     "output_type": "execute_result"
    }
   ],
   "source": [
    "num_rows = data.shape[0]\n",
    "print(f\"Number of rows in the dataset: {num_rows}\")\n",
    "data.head()"
   ]
  },
  {
   "cell_type": "code",
   "execution_count": 8,
   "metadata": {
    "id": "QRBk5GL050eJ"
   },
   "outputs": [],
   "source": [
    "class SMSDataset(Dataset):\n",
    "    def __init__(self, texts, labels, vectorizer):\n",
    "        self.texts = texts\n",
    "        self.labels = labels\n",
    "        self.vectorizer = vectorizer\n",
    "\n",
    "    def __len__(self):\n",
    "        return len(self.labels)\n",
    "\n",
    "    def __getitem__(self, idx):\n",
    "        text_vector = self.vectorizer.transform([self.texts[idx]]).toarray().squeeze()\n",
    "        label = self.labels[idx]\n",
    "        return torch.tensor(text_vector, dtype=torch.float32), torch.tensor(label, dtype=torch.long)\n",
    "\n",
    "def load_datasets(partition_id: int):\n",
    "    print(f\"Loading dataset for partition ID: {partition_id}\")\n",
    "\n",
    "    # Load raw data\n",
    "    data = pd.read_csv(DATA_PATH, sep=\"\\t\", header=None, names=[\"label\", \"text\"])\n",
    "    data[\"label\"] = data[\"label\"].map({\"ham\": 0, \"spam\": 1})\n",
    "\n",
    "    # Vectorize text data\n",
    "    vectorizer = TfidfVectorizer(stop_words=\"english\", max_features=5000)\n",
    "    vectorizer.fit(data[\"text\"])\n",
    "\n",
    "    # Split into NUM_CLIENTS partitions\n",
    "    indices = np.arange(len(data))\n",
    "    np.random.seed(42)\n",
    "    np.random.shuffle(indices)\n",
    "    split_indices = np.array_split(indices, NUM_CLIENTS)\n",
    "\n",
    "    # Select partition\n",
    "    partition_indices = split_indices[partition_id]\n",
    "    partition_data = data.iloc[partition_indices]\n",
    "\n",
    "    # Train/val split\n",
    "    train_data, val_data = train_test_split(partition_data, test_size=0.1, random_state=42)\n",
    "    train_dataset = SMSDataset(train_data[\"text\"].tolist(), train_data[\"label\"].tolist(), vectorizer)\n",
    "    val_dataset = SMSDataset(val_data[\"text\"].tolist(), val_data[\"label\"].tolist(), vectorizer)\n",
    "\n",
    "    # Dataloaders\n",
    "    trainloader = DataLoader(train_dataset, batch_size=BATCH_SIZE, shuffle=True)\n",
    "    valloader = DataLoader(val_dataset, batch_size=BATCH_SIZE)\n",
    "\n",
    "    # Test set\n",
    "    test_data = data.iloc[split_indices[-1]]\n",
    "    test_dataset = SMSDataset(test_data[\"text\"].tolist(), test_data[\"label\"].tolist(), vectorizer)\n",
    "    testloader = DataLoader(test_dataset, batch_size=BATCH_SIZE)\n",
    "\n",
    "    print(f\"Partition {partition_id}: Train {len(train_data)}, Val {len(val_data)}, Test {len(test_data)}\")\n",
    "    return trainloader, valloader, testloader\n"
   ]
  },
  {
   "cell_type": "markdown",
   "metadata": {},
   "source": [
    "# Train model"
   ]
  },
  {
   "cell_type": "code",
   "execution_count": 9,
   "metadata": {
    "id": "wLu3Dfan2FHf"
   },
   "outputs": [],
   "source": [
    "class Net(nn.Module):\n",
    "    def __init__(self, input_dim: int):\n",
    "        super(Net, self).__init__()\n",
    "        self.fc1 = nn.Linear(input_dim, 128)  # Fully connected layer\n",
    "        self.fc2 = nn.Linear(128, 64)\n",
    "        self.fc3 = nn.Linear(64, 2)  # 2 output classes (ham, spam)\n",
    "\n",
    "    def forward(self, x: torch.Tensor) -> torch.Tensor:\n",
    "        x = F.relu(self.fc1(x))\n",
    "        x = F.relu(self.fc2(x))\n",
    "        x = self.fc3(x)\n",
    "        return x\n"
   ]
  },
  {
   "cell_type": "code",
   "execution_count": 10,
   "metadata": {
    "id": "PNKDMzWOCpmP"
   },
   "outputs": [],
   "source": [
    "def train(net, trainloader, epochs: int, verbose=False):\n",
    "    \"\"\"Train the network on the training set.\"\"\"\n",
    "    criterion = torch.nn.CrossEntropyLoss()\n",
    "    optimizer = torch.optim.Adam(net.parameters())\n",
    "    net.train()\n",
    "    for epoch in range(epochs):\n",
    "        epoch_loss = 0.0\n",
    "        correct, total = 0, 0\n",
    "        for inputs, labels in trainloader:\n",
    "            inputs, labels = inputs.to(DEVICE), labels.to(DEVICE)\n",
    "            optimizer.zero_grad()\n",
    "            outputs = net(inputs)\n",
    "            loss = criterion(outputs, labels)\n",
    "            loss.backward()\n",
    "            optimizer.step()\n",
    "            # Metrics\n",
    "            epoch_loss += loss.item()\n",
    "            total += labels.size(0)\n",
    "            correct += (torch.max(outputs, 1)[1] == labels).sum().item()\n",
    "        epoch_loss /= len(trainloader)\n",
    "        epoch_acc = correct / total\n",
    "        if verbose:\n",
    "            print(f\"Train loss {epoch_loss}, Accuracy {epoch_acc}\")\n",
    "\n",
    "def test(net, testloader):\n",
    "    \"\"\"Evaluate the network on the entire test set.\"\"\"\n",
    "    criterion = torch.nn.CrossEntropyLoss()\n",
    "    correct, total, loss = 0, 0, 0.0\n",
    "    net.eval()\n",
    "    with torch.no_grad():\n",
    "        for inputs, labels in testloader:\n",
    "            inputs, labels = inputs.to(DEVICE), labels.to(DEVICE)\n",
    "            outputs = net(inputs)\n",
    "            loss += criterion(outputs, labels).item()\n",
    "            _, predicted = torch.max(outputs.data, 1)\n",
    "            total += labels.size(0)\n",
    "            correct += (predicted == labels).sum().item()\n",
    "    loss /= len(testloader)\n",
    "    accuracy = correct / total\n",
    "    return loss, accuracy\n"
   ]
  },
  {
   "cell_type": "code",
   "execution_count": 11,
   "metadata": {},
   "outputs": [
    {
     "name": "stdout",
     "output_type": "stream",
     "text": [
      "Loading dataset for partition ID: 0\n",
      "Partition 0: Train 502, Val 56, Test 557\n",
      "Net(\n",
      "  (fc1): Linear(in_features=5000, out_features=128, bias=True)\n",
      "  (fc2): Linear(in_features=128, out_features=64, bias=True)\n",
      "  (fc3): Linear(in_features=64, out_features=2, bias=True)\n",
      ")\n"
     ]
    }
   ],
   "source": [
    "# Lấy trainloader từ partition đầu tiên\n",
    "trainloader, valloader, testloader = load_datasets(partition_id=0)\n",
    "\n",
    "# Số chiều của đầu vào từ vectorizer\n",
    "input_dim = 5000  # (đã được đặt trong load_datasets max_features=5000)\n",
    "\n",
    "# Khởi tạo mô hình\n",
    "net = Net(input_dim).to(DEVICE)\n",
    "print(net)\n"
   ]
  },
  {
   "cell_type": "markdown",
   "metadata": {},
   "source": [
    "# Federated Learning"
   ]
  },
  {
   "cell_type": "code",
   "execution_count": 12,
   "metadata": {
    "id": "sFjVeY7JKeL6"
   },
   "outputs": [],
   "source": [
    "def set_parameters(net, parameters: List[np.ndarray]):\n",
    "    params_dict = zip(net.state_dict().keys(), parameters)\n",
    "    state_dict = OrderedDict({k: torch.Tensor(v) for k, v in params_dict})\n",
    "    net.load_state_dict(state_dict, strict=True)\n",
    "\n",
    "\n",
    "def get_parameters(net) -> List[np.ndarray]:\n",
    "    return [val.cpu().numpy() for _, val in net.state_dict().items()]"
   ]
  },
  {
   "cell_type": "code",
   "execution_count": 13,
   "metadata": {
    "id": "P1YXP90-C7HZ"
   },
   "outputs": [],
   "source": [
    "class FlowerClient(NumPyClient):\n",
    "    def __init__(self, net, trainloader, valloader, is_bad_client=False):\n",
    "        self.net = net\n",
    "        self.trainloader = trainloader\n",
    "        self.valloader = valloader\n",
    "        self.is_bad_client = is_bad_client  # Flag to indicate bad client behavior\n",
    "\n",
    "    def get_parameters(self, config):\n",
    "        return get_parameters(self.net)\n",
    "\n",
    "    def fit(self, parameters, config):\n",
    "        if self.is_bad_client:\n",
    "            # Bad client behavior: Send random or outdated parameters\n",
    "            print(f\"Client behaving badly: sending fake parameters.\")\n",
    "            return [\n",
    "                np.random.normal(size=p.shape).astype(np.float32)\n",
    "                for p in parameters\n",
    "            ], len(self.trainloader), {}\n",
    "        else:\n",
    "            # Normal client behavior: Perform local training\n",
    "            set_parameters(self.net, parameters)\n",
    "            train(self.net, self.trainloader, epochs=1)\n",
    "            return get_parameters(self.net), len(self.trainloader), {}\n",
    "\n",
    "    def evaluate(self, parameters, config):\n",
    "        set_parameters(self.net, parameters)\n",
    "        loss, accuracy = test(self.net, self.valloader)\n",
    "        return float(loss), len(self.valloader), {\"accuracy\": float(accuracy)}\n"
   ]
  },
  {
   "cell_type": "code",
   "execution_count": 14,
   "metadata": {
    "id": "al49ggCSC7oK"
   },
   "outputs": [],
   "source": [
    "def client_fn(context: Context) -> Client:\n",
    "    \"\"\"Create a Flower client representing a single organization.\"\"\"\n",
    "    input_dim = 5000  # Đã được đặt trong load_datasets max_features=5000\n",
    "    net = Net(input_dim).to(DEVICE)\n",
    "    partition_id = context.node_config[\"partition-id\"]\n",
    "    trainloader, valloader, _ = load_datasets(partition_id=partition_id)\n",
    "\n",
    "    # Xác định bad clients\n",
    "    bad_clients = [1]  # Chọn client 2 và 5 là bad clients\n",
    "    is_bad_client = partition_id in bad_clients\n",
    "\n",
    "    return FlowerClient(net, trainloader, valloader, is_bad_client=is_bad_client).to_client()\n",
    "\n",
    "# Create the ClientApp\n",
    "client = ClientApp(client_fn=client_fn)\n"
   ]
  },
  {
   "cell_type": "code",
   "execution_count": 15,
   "metadata": {},
   "outputs": [],
   "source": [
    "def weighted_average(metrics: List[Tuple[int, dict]]) -> dict:\n",
    "    \"\"\"\n",
    "    Compute weighted average for metrics.\n",
    "    \n",
    "    Args:\n",
    "        metrics: List of tuples (num_examples, metrics_dict).\n",
    "    \n",
    "    Returns:\n",
    "        dict: Aggregated metrics with weighted averages.\n",
    "    \"\"\"\n",
    "    # Ensure there are metrics to aggregate\n",
    "    if not metrics:\n",
    "        return {}\n",
    "\n",
    "    # Initialize storage for weighted sums\n",
    "    weighted_sums = {}\n",
    "    total_examples = 0\n",
    "\n",
    "    for num_examples, metric_dict in metrics:\n",
    "        total_examples += num_examples\n",
    "        for key, value in metric_dict.items():\n",
    "            if key not in weighted_sums:\n",
    "                weighted_sums[key] = 0\n",
    "            weighted_sums[key] += num_examples * value\n",
    "\n",
    "    # Compute weighted averages\n",
    "    aggregated_metrics = {\n",
    "        key: weighted_sums[key] / total_examples for key in weighted_sums\n",
    "    }\n",
    "    return aggregated_metrics\n"
   ]
  },
  {
   "cell_type": "code",
   "execution_count": 16,
   "metadata": {},
   "outputs": [],
   "source": [
    "# Custom SaveModelStrategy implementation\n",
    "class SaveModelStrategy(FedAvg):\n",
    "    def aggregate_fit(\n",
    "        self,\n",
    "        server_round: int,\n",
    "        results: list[tuple[ClientProxy, FitRes]],\n",
    "        failures: list[Union[tuple[ClientProxy, FitRes], BaseException]],\n",
    "    ) -> tuple[Optional[Parameters], dict[str, Scalar]]:\n",
    "\n",
    "        # Call aggregate_fit from the base class (FedAvg)\n",
    "        aggregated_parameters, aggregated_metrics = super().aggregate_fit(\n",
    "            server_round, results, failures\n",
    "        )\n",
    "\n",
    "        if aggregated_parameters is not None:\n",
    "            # Convert `Parameters` to `list[np.ndarray]`\n",
    "            aggregated_ndarrays = parameters_to_ndarrays(aggregated_parameters)\n",
    "\n",
    "            # Save aggregated weights for each round\n",
    "            print(f\"Saving round {server_round} aggregated weights...\")\n",
    "            np.savez(f\"round-{server_round}-weights.npz\", *aggregated_ndarrays)\n",
    "\n",
    "            # Save the final model at the end of training\n",
    "            if server_round == 5:\n",
    "                with open(\"FFA_model.pkl\", \"wb\") as f:\n",
    "                    pickle.dump(aggregated_ndarrays, f)\n",
    "                print(\"Final model saved as 'FFA_model.pkl'\")\n",
    "                # Lưu dưới dạng PyTorch\n",
    "                torch.save(aggregated_ndarrays, \"FFA_model.pth\")\n",
    "                print(\"Final model saved as 'FFA_model.pth'\")\n",
    "\n",
    "        return aggregated_parameters, aggregated_metrics"
   ]
  },
  {
   "cell_type": "code",
   "execution_count": 17,
   "metadata": {
    "id": "eadAnMzoDEk8"
   },
   "outputs": [],
   "source": [
    "# Define the server function\n",
    "def server_fn(context: Context) -> ServerAppComponents:\n",
    "    # Use the custom SaveModelStrategy\n",
    "    strategy = SaveModelStrategy(\n",
    "        fraction_fit=1.0,\n",
    "        fraction_evaluate=0.5,\n",
    "        min_fit_clients=10,\n",
    "        min_evaluate_clients=5,\n",
    "        min_available_clients=10,\n",
    "        fit_metrics_aggregation_fn=weighted_average,\n",
    "        evaluate_metrics_aggregation_fn=weighted_average,\n",
    "    )\n",
    "\n",
    "    # Configure the server for 5 rounds of training\n",
    "    config = ServerConfig(num_rounds=5)\n",
    "\n",
    "    return ServerAppComponents(strategy=strategy, config=config)\n",
    "\n",
    "\n",
    "# Create a new server instance with the SaveModelStrategy\n",
    "server = ServerApp(server_fn=server_fn)"
   ]
  },
  {
   "cell_type": "code",
   "execution_count": 18,
   "metadata": {
    "id": "3tzMj2s_DJRz"
   },
   "outputs": [],
   "source": [
    "# Specify the resources each of your clients need\n",
    "# By default, each client will be allocated 1x CPU and 0x GPUs\n",
    "backend_config = {\"client_resources\": {\"num_cpus\": 1, \"num_gpus\": 0.0}}\n",
    "\n",
    "# When running on GPU, assign an entire GPU for each client\n",
    "if DEVICE.type == \"cuda\":\n",
    "    backend_config = {\"client_resources\": {\"num_cpus\": 1, \"num_gpus\": 1.0}}\n",
    "    # Refer to our Flower framework documentation for more details about Flower simulations\n",
    "    # and how to set up the `backend_config`"
   ]
  },
  {
   "cell_type": "code",
   "execution_count": 19,
   "metadata": {},
   "outputs": [
    {
     "name": "stdout",
     "output_type": "stream",
     "text": [
      "TensorFlow version: 2.18.0\n"
     ]
    }
   ],
   "source": [
    "import os\n",
    "\n",
    "# Disable oneDNN custom operations to avoid floating-point round-off errors\n",
    "os.environ['TF_ENABLE_ONEDNN_OPTS'] = '0'\n",
    "\n",
    "# Import TensorFlow and other required libraries\n",
    "import tensorflow as tf\n",
    "\n",
    "# Initialize TensorFlow\n",
    "print(\"TensorFlow version:\", tf.__version__)\n"
   ]
  },
  {
   "cell_type": "code",
   "execution_count": 20,
   "metadata": {
    "colab": {
     "base_uri": "https://localhost:8080/",
     "height": 1000
    },
    "id": "offZbgFTDHis",
    "outputId": "a93523eb-ae4e-4594-f64e-6cc100855411"
   },
   "outputs": [
    {
     "name": "stderr",
     "output_type": "stream",
     "text": [
      "\u001b[94mDEBUG 2024-12-01 11:51:54,081\u001b[0m:     Asyncio event loop already running.\n",
      "\u001b[94mDEBUG 2024-12-01 11:51:54,082\u001b[0m:     Logger propagate set to False\n",
      "\u001b[94mDEBUG 2024-12-01 11:51:54,082\u001b[0m:     Pre-registering run with id 4115108434440254484\n",
      "\u001b[94mDEBUG 2024-12-01 11:51:54,084\u001b[0m:     Using InMemoryState\n",
      "\u001b[94mDEBUG 2024-12-01 11:51:54,085\u001b[0m:     Using InMemoryState\n",
      "\u001b[92mINFO 2024-12-01 11:51:54,097\u001b[0m:      Starting Flower ServerApp, config: num_rounds=5, no round_timeout\n",
      "\u001b[94mDEBUG 2024-12-01 11:51:54,099\u001b[0m:     Buffer time delay: 5s\n",
      "\u001b[92mINFO 2024-12-01 11:51:54,121\u001b[0m:      \n",
      "\u001b[92mINFO 2024-12-01 11:51:54,352\u001b[0m:      [INIT]\n",
      "\u001b[92mINFO 2024-12-01 11:51:54,353\u001b[0m:      Requesting initial parameters from one random client\n",
      "\u001b[94mDEBUG 2024-12-01 11:51:59,359\u001b[0m:     Using InMemoryState\n",
      "\u001b[94mDEBUG 2024-12-01 11:51:59,360\u001b[0m:     Registered 10 nodes\n",
      "\u001b[94mDEBUG 2024-12-01 11:51:59,360\u001b[0m:     Supported backends: ['ray']\n",
      "\u001b[94mDEBUG 2024-12-01 11:51:59,360\u001b[0m:     Initialising: RayBackend\n",
      "\u001b[94mDEBUG 2024-12-01 11:51:59,361\u001b[0m:     Backend config: {'client_resources': {'num_cpus': 1, 'num_gpus': 0.0}, 'init_args': {}, 'actor': {'tensorflow': 0}}\n",
      "2024-12-01 11:52:03,002\tINFO worker.py:1752 -- Started a local Ray instance.\n",
      "\u001b[94mDEBUG 2024-12-01 11:52:06,626\u001b[0m:     Constructed ActorPool with: 12 actors\n",
      "\u001b[94mDEBUG 2024-12-01 11:52:06,626\u001b[0m:     Using InMemoryState\n",
      "\u001b[92mINFO 2024-12-01 11:52:28,637\u001b[0m:      Received initial parameters from one random client\n",
      "\u001b[92mINFO 2024-12-01 11:52:28,637\u001b[0m:      Starting evaluation of initial global parameters\n",
      "\u001b[92mINFO 2024-12-01 11:52:28,638\u001b[0m:      Evaluation returned no results (`None`)\n",
      "\u001b[92mINFO 2024-12-01 11:52:28,639\u001b[0m:      \n",
      "\u001b[92mINFO 2024-12-01 11:52:28,639\u001b[0m:      [ROUND 1]\n",
      "\u001b[92mINFO 2024-12-01 11:52:28,640\u001b[0m:      configure_fit: strategy sampled 10 clients (out of 10)\n"
     ]
    },
    {
     "name": "stdout",
     "output_type": "stream",
     "text": [
      "\u001b[36m(ClientAppActor pid=19532)\u001b[0m Loading dataset for partition ID: 6\n",
      "\u001b[36m(ClientAppActor pid=19532)\u001b[0m Partition 6: Train 501, Val 56, Test 557\n",
      "\u001b[36m(ClientAppActor pid=19532)\u001b[0m Loading dataset for partition ID: 0\n",
      "\u001b[36m(ClientAppActor pid=19532)\u001b[0m Partition 0: Train 502, Val 56, Test 557\n",
      "\u001b[36m(ClientAppActor pid=9228)\u001b[0m Loading dataset for partition ID: 6\n",
      "\u001b[36m(ClientAppActor pid=29236)\u001b[0m Loading dataset for partition ID: 5\n",
      "\u001b[36m(ClientAppActor pid=9228)\u001b[0m Partition 6: Train 501, Val 56, Test 557\n",
      "\u001b[36m(ClientAppActor pid=12420)\u001b[0m Client behaving badly: sending fake parameters.\n"
     ]
    },
    {
     "name": "stderr",
     "output_type": "stream",
     "text": [
      "\u001b[92mINFO 2024-12-01 11:52:44,108\u001b[0m:      aggregate_fit: received 10 results and 0 failures\n",
      "\u001b[92mINFO 2024-12-01 11:52:44,144\u001b[0m:      configure_evaluate: strategy sampled 5 clients (out of 10)\n"
     ]
    },
    {
     "name": "stdout",
     "output_type": "stream",
     "text": [
      "Saving round 1 aggregated weights...\n",
      "\u001b[36m(ClientAppActor pid=29236)\u001b[0m Loading dataset for partition ID: 0\u001b[32m [repeated 8x across cluster] (Ray deduplicates logs by default. Set RAY_DEDUP_LOGS=0 to disable log deduplication, or see https://docs.ray.io/en/master/ray-observability/ray-logging.html#log-deduplication for more options.)\u001b[0m\n",
      "\u001b[36m(ClientAppActor pid=15812)\u001b[0m Partition 8: Train 501, Val 56, Test 557\u001b[32m [repeated 8x across cluster]\u001b[0m\n"
     ]
    },
    {
     "name": "stderr",
     "output_type": "stream",
     "text": [
      "\u001b[92mINFO 2024-12-01 11:52:44,649\u001b[0m:      aggregate_evaluate: received 5 results and 0 failures\n",
      "\u001b[92mINFO 2024-12-01 11:52:44,650\u001b[0m:      \n",
      "\u001b[92mINFO 2024-12-01 11:52:44,651\u001b[0m:      [ROUND 2]\n",
      "\u001b[92mINFO 2024-12-01 11:52:44,651\u001b[0m:      configure_fit: strategy sampled 10 clients (out of 10)\n"
     ]
    },
    {
     "name": "stdout",
     "output_type": "stream",
     "text": [
      "\u001b[36m(ClientAppActor pid=28980)\u001b[0m Client behaving badly: sending fake parameters.\n"
     ]
    },
    {
     "name": "stderr",
     "output_type": "stream",
     "text": [
      "\u001b[92mINFO 2024-12-01 11:52:48,840\u001b[0m:      aggregate_fit: received 10 results and 0 failures\n",
      "\u001b[92mINFO 2024-12-01 11:52:48,884\u001b[0m:      configure_evaluate: strategy sampled 5 clients (out of 10)\n"
     ]
    },
    {
     "name": "stdout",
     "output_type": "stream",
     "text": [
      "Saving round 2 aggregated weights...\n"
     ]
    },
    {
     "name": "stderr",
     "output_type": "stream",
     "text": [
      "\u001b[92mINFO 2024-12-01 11:52:49,257\u001b[0m:      aggregate_evaluate: received 5 results and 0 failures\n",
      "\u001b[92mINFO 2024-12-01 11:52:49,259\u001b[0m:      \n",
      "\u001b[92mINFO 2024-12-01 11:52:49,259\u001b[0m:      [ROUND 3]\n",
      "\u001b[92mINFO 2024-12-01 11:52:49,259\u001b[0m:      configure_fit: strategy sampled 10 clients (out of 10)\n"
     ]
    },
    {
     "name": "stdout",
     "output_type": "stream",
     "text": [
      "\u001b[36m(ClientAppActor pid=9228)\u001b[0m Loading dataset for partition ID: 3\u001b[32m [repeated 20x across cluster]\u001b[0m\n",
      "\u001b[36m(ClientAppActor pid=10072)\u001b[0m Partition 7: Train 501, Val 56, Test 557\u001b[32m [repeated 20x across cluster]\u001b[0m\n",
      "\u001b[36m(ClientAppActor pid=12420)\u001b[0m Client behaving badly: sending fake parameters.\n"
     ]
    },
    {
     "name": "stderr",
     "output_type": "stream",
     "text": [
      "\u001b[92mINFO 2024-12-01 11:52:51,924\u001b[0m:      aggregate_fit: received 10 results and 0 failures\n",
      "\u001b[92mINFO 2024-12-01 11:52:51,957\u001b[0m:      configure_evaluate: strategy sampled 5 clients (out of 10)\n"
     ]
    },
    {
     "name": "stdout",
     "output_type": "stream",
     "text": [
      "Saving round 3 aggregated weights...\n"
     ]
    },
    {
     "name": "stderr",
     "output_type": "stream",
     "text": [
      "\u001b[92mINFO 2024-12-01 11:52:52,340\u001b[0m:      aggregate_evaluate: received 5 results and 0 failures\n",
      "\u001b[92mINFO 2024-12-01 11:52:52,340\u001b[0m:      \n",
      "\u001b[92mINFO 2024-12-01 11:52:52,342\u001b[0m:      [ROUND 4]\n",
      "\u001b[92mINFO 2024-12-01 11:52:52,342\u001b[0m:      configure_fit: strategy sampled 10 clients (out of 10)\n"
     ]
    },
    {
     "name": "stdout",
     "output_type": "stream",
     "text": [
      "\u001b[36m(ClientAppActor pid=31240)\u001b[0m Client behaving badly: sending fake parameters.\n"
     ]
    },
    {
     "name": "stderr",
     "output_type": "stream",
     "text": [
      "\u001b[92mINFO 2024-12-01 11:52:54,921\u001b[0m:      aggregate_fit: received 10 results and 0 failures\n",
      "\u001b[92mINFO 2024-12-01 11:52:54,986\u001b[0m:      configure_evaluate: strategy sampled 5 clients (out of 10)\n"
     ]
    },
    {
     "name": "stdout",
     "output_type": "stream",
     "text": [
      "Saving round 4 aggregated weights...\n",
      "\u001b[36m(ClientAppActor pid=15812)\u001b[0m Loading dataset for partition ID: 2\u001b[32m [repeated 25x across cluster]\u001b[0m\n",
      "\u001b[36m(ClientAppActor pid=25528)\u001b[0m Partition 5: Train 501, Val 56, Test 557\u001b[32m [repeated 25x across cluster]\u001b[0m\n"
     ]
    },
    {
     "name": "stderr",
     "output_type": "stream",
     "text": [
      "\u001b[92mINFO 2024-12-01 11:52:55,635\u001b[0m:      aggregate_evaluate: received 5 results and 0 failures\n",
      "\u001b[92mINFO 2024-12-01 11:52:55,637\u001b[0m:      \n",
      "\u001b[92mINFO 2024-12-01 11:52:55,637\u001b[0m:      [ROUND 5]\n",
      "\u001b[92mINFO 2024-12-01 11:52:55,638\u001b[0m:      configure_fit: strategy sampled 10 clients (out of 10)\n",
      "\u001b[92mINFO 2024-12-01 11:52:58,018\u001b[0m:      aggregate_fit: received 10 results and 0 failures\n",
      "\u001b[92mINFO 2024-12-01 11:52:58,083\u001b[0m:      configure_evaluate: strategy sampled 5 clients (out of 10)\n"
     ]
    },
    {
     "name": "stdout",
     "output_type": "stream",
     "text": [
      "Saving round 5 aggregated weights...\n",
      "Final model saved as 'FFA_model.pkl'\n",
      "Final model saved as 'FFA_model.pth'\n",
      "\u001b[36m(ClientAppActor pid=28980)\u001b[0m Client behaving badly: sending fake parameters.\n"
     ]
    },
    {
     "name": "stderr",
     "output_type": "stream",
     "text": [
      "\u001b[92mINFO 2024-12-01 11:52:58,501\u001b[0m:      aggregate_evaluate: received 5 results and 0 failures\n",
      "\u001b[92mINFO 2024-12-01 11:52:58,504\u001b[0m:      \n",
      "\u001b[92mINFO 2024-12-01 11:52:58,504\u001b[0m:      [SUMMARY]\n",
      "\u001b[92mINFO 2024-12-01 11:52:58,506\u001b[0m:      Run finished 5 round(s) in 29.86s\n",
      "\u001b[92mINFO 2024-12-01 11:52:58,506\u001b[0m:      \tHistory (loss, distributed):\n",
      "\u001b[92mINFO 2024-12-01 11:52:58,507\u001b[0m:      \t\tround 1: 0.4635420754551888\n",
      "\u001b[92mINFO 2024-12-01 11:52:58,507\u001b[0m:      \t\tround 2: 0.3428835613653064\n",
      "\u001b[92mINFO 2024-12-01 11:52:58,508\u001b[0m:      \t\tround 3: 0.3411667302250862\n",
      "\u001b[92mINFO 2024-12-01 11:52:58,509\u001b[0m:      \t\tround 4: 0.4132439583539963\n",
      "\u001b[92mINFO 2024-12-01 11:52:58,509\u001b[0m:      \t\tround 5: 0.4955865401774645\n",
      "\u001b[92mINFO 2024-12-01 11:52:58,510\u001b[0m:      \tHistory (metrics, distributed, evaluate):\n",
      "\u001b[92mINFO 2024-12-01 11:52:58,510\u001b[0m:      \t{'accuracy': [(1, 0.875),\n",
      "\u001b[92mINFO 2024-12-01 11:52:58,510\u001b[0m:      \t              (2, 0.8964285714285714),\n",
      "\u001b[92mINFO 2024-12-01 11:52:58,512\u001b[0m:      \t              (3, 0.8642857142857144),\n",
      "\u001b[92mINFO 2024-12-01 11:52:58,512\u001b[0m:      \t              (4, 0.8642857142857142),\n",
      "\u001b[92mINFO 2024-12-01 11:52:58,513\u001b[0m:      \t              (5, 0.8571428571428571)]}\n",
      "\u001b[92mINFO 2024-12-01 11:52:58,513\u001b[0m:      \n",
      "\u001b[94mDEBUG 2024-12-01 11:52:58,519\u001b[0m:     ServerApp finished running.\n",
      "\u001b[94mDEBUG 2024-12-01 11:52:58,521\u001b[0m:     ServerApp finished running.\n",
      "\u001b[94mDEBUG 2024-12-01 11:52:58,522\u001b[0m:     Triggered stop event for Simulation Engine.\n",
      "\u001b[94mDEBUG 2024-12-01 11:52:59,432\u001b[0m:     Terminated 12 actors\n",
      "\u001b[36m(ClientAppActor pid=9228)\u001b[0m \u001b[93mWARNING \u001b[0m:   Manually terminating ClientAppActor\n",
      "\u001b[36m(ClientAppActor pid=28980)\u001b[0m \u001b[93mWARNING \u001b[0m:   Manually terminating ClientAppActor\n"
     ]
    },
    {
     "name": "stdout",
     "output_type": "stream",
     "text": [
      "\u001b[36m(ClientAppActor pid=25528)\u001b[0m Loading dataset for partition ID: 5\u001b[32m [repeated 19x across cluster]\u001b[0m\n",
      "\u001b[36m(ClientAppActor pid=25528)\u001b[0m Partition 5: Train 501, Val 56, Test 557\u001b[32m [repeated 20x across cluster]\u001b[0m\n"
     ]
    },
    {
     "name": "stderr",
     "output_type": "stream",
     "text": [
      "\u001b[94mDEBUG 2024-12-01 11:53:00,661\u001b[0m:     Terminated RayBackend\n",
      "\u001b[94mDEBUG 2024-12-01 11:53:00,663\u001b[0m:     Stopping Simulation Engine now.\n"
     ]
    }
   ],
   "source": [
    "# Run simulation\n",
    "history = run_simulation(\n",
    "    server_app=server,\n",
    "    client_app=client,\n",
    "    num_supernodes=NUM_CLIENTS,\n",
    "    backend_config=backend_config,\n",
    "    verbose_logging=True\n",
    ")\n"
   ]
  },
  {
   "cell_type": "code",
   "execution_count": 21,
   "metadata": {},
   "outputs": [
    {
     "name": "stderr",
     "output_type": "stream",
     "text": [
      "C:\\Users\\LENOVO\\AppData\\Local\\Temp\\ipykernel_5176\\2405705097.py:5: FutureWarning: You are using `torch.load` with `weights_only=False` (the current default value), which uses the default pickle module implicitly. It is possible to construct malicious pickle data which will execute arbitrary code during unpickling (See https://github.com/pytorch/pytorch/blob/main/SECURITY.md#untrusted-models for more details). In a future release, the default value for `weights_only` will be flipped to `True`. This limits the functions that could be executed during unpickling. Arbitrary objects will no longer be allowed to be loaded via this mode unless they are explicitly allowlisted by the user via `torch.serialization.add_safe_globals`. We recommend you start setting `weights_only=True` for any use case where you don't have full control of the loaded file. Please open an issue on GitHub for any issues related to this experimental feature.\n",
      "  final_model_weights = torch.load(\"FFA_model.pth\")\n"
     ]
    },
    {
     "name": "stdout",
     "output_type": "stream",
     "text": [
      "Input SMS:  you wwin aprize\n",
      "Prediction: Ham\n"
     ]
    }
   ],
   "source": [
    "def predict_sms_with_final_model(sms_text: str):\n",
    "    \"\"\"Predicts whether an SMS is spam or ham using the final trained model.\"\"\"\n",
    "\n",
    "    # Load the final model weights\n",
    "    final_model_weights = torch.load(\"FFA_model.pth\")\n",
    "\n",
    "    # Initialize the model\n",
    "    final_model = Net(input_dim).to(DEVICE)\n",
    "\n",
    "    # Set the model parameters\n",
    "    set_parameters(final_model, final_model_weights)\n",
    "\n",
    "    # Vectorize the input SMS using the same vectorizer used during training\n",
    "    vectorizer = TfidfVectorizer(stop_words=\"english\", max_features=5000)\n",
    "    vectorizer.fit(data[\"text\"])  # Fit the vectorizer on the entire dataset\n",
    "    sms_vector = vectorizer.transform([sms_text]).toarray().squeeze()\n",
    "    sms_tensor = torch.tensor(sms_vector, dtype=torch.float32).to(DEVICE)\n",
    "\n",
    "    # Make a prediction using the trained model\n",
    "    with torch.no_grad():\n",
    "        final_model.eval()  # Set the model to evaluation mode\n",
    "        output = final_model(sms_tensor)\n",
    "        _, predicted = torch.max(output.data, 0)  # Get the class with highest probability\n",
    "\n",
    "    # Return the prediction (0 for ham, 1 for spam)\n",
    "    return predicted.item()\n",
    "\n",
    "# Example usage\n",
    "input_sms = input(\"Enter an SMS message: \")\n",
    "prediction = predict_sms_with_final_model(input_sms)\n",
    "\n",
    "print(\"Input SMS: \", input_sms)\n",
    "if prediction == 0:\n",
    "    print(\"Prediction: Ham\")\n",
    "else:\n",
    "    print(\"Prediction: Spam\")"
   ]
  },
  {
   "cell_type": "code",
   "execution_count": 31,
   "metadata": {},
   "outputs": [
    {
     "data": {
      "image/png": "[encoded data removed]",
      "text/plain": [
       "<Figure size 1400x600 with 2 Axes>"
      ]
     },
     "metadata": {},
     "output_type": "display_data"
    }
   ],
   "source": [
    "import matplotlib.pyplot as plt\n",
    "\n",
    "# Data for free riders and baseline\n",
    "data = {\n",
    "    \"Baseline\": {\n",
    "        \"loss\": [0.42858303487300875, 0.26187283657491206, 0.2062439415603876, 0.15063141379505396, 0.13630193565040827],\n",
    "        \"accuracy\": [0.8857142857142856, 0.8928571428571427, 0.8821428571428571, 0.9499999999999998, 0.9642857142857142],\n",
    "    },\n",
    "    \"1 Free Rider\": {\n",
    "        \"loss\": [0.44351802468299867, 0.35017618387937544, 0.32142082750797274, 0.4228206008672714, 0.5452779680490494],\n",
    "        \"accuracy\": [0.9071428571428571, 0.8892857142857142, 0.8928571428571429, 0.8607142857142858, 0.825],\n",
    "    },\n",
    "    \"2 Free Riders\": {\n",
    "        \"loss\": [0.5934045627713204, 0.4802983932197094, 1.0708690144121646, 1.8855907618999481, 2.7367984682321547],\n",
    "        \"accuracy\": [0.7107142857142857, 0.8642857142857144, 0.7035714285714286, 0.7142857142857142, 0.7392857142857142],\n",
    "    },\n",
    "    \"5 Free Riders\": {\n",
    "        \"loss\": [3.385702896118164, 7.671667778491974, 9.217139941453933, 10.236538362503051, 10.63924411535263],\n",
    "        \"accuracy\": [0.4357142857142858, 0.5607142857142857, 0.5964285714285715, 0.6107142857142855, 0.6107142857142858],\n",
    "    },\n",
    "}\n",
    "\n",
    "# Rounds for the X-axis\n",
    "rounds = [1, 2, 3, 4, 5]\n",
    "\n",
    "# Plotting loss and accuracy\n",
    "plt.figure(figsize=(14, 6))\n",
    "\n",
    "# Loss plot\n",
    "plt.subplot(1, 2, 1)\n",
    "plt.plot(rounds, data[\"Baseline\"][\"loss\"], label=\"Baseline\", color=\"blue\", linestyle=\"-\")\n",
    "plt.plot(rounds, data[\"1 Free Rider\"][\"loss\"], label=\"1 Free Rider\", color=\"brown\", linestyle=\"-\")\n",
    "plt.plot(rounds, data[\"2 Free Riders\"][\"loss\"], label=\"2 Free Riders\", color=\"orange\", linestyle=\"-\")\n",
    "plt.plot(rounds, data[\"5 Free Riders\"][\"loss\"], label=\"5 Free Riders\", color=\"red\", linestyle=\"-\")\n",
    "plt.title(\"Loss over Rounds\")\n",
    "plt.xlabel(\"Rounds\")\n",
    "plt.ylabel(\"Loss\")\n",
    "plt.legend()\n",
    "plt.grid(True)\n",
    "\n",
    "# Accuracy plot\n",
    "plt.subplot(1, 2, 2)\n",
    "plt.plot(rounds, data[\"Baseline\"][\"accuracy\"], label=\"Baseline\", color=\"blue\", linestyle=\"-\")\n",
    "plt.plot(rounds, data[\"1 Free Rider\"][\"accuracy\"], label=\"1 Free Rider\", color=\"brown\", linestyle=\"-\")\n",
    "plt.plot(rounds, data[\"2 Free Riders\"][\"accuracy\"], label=\"2 Free Riders\", color=\"orange\", linestyle=\"-\")\n",
    "plt.plot(rounds, data[\"5 Free Riders\"][\"accuracy\"], label=\"5 Free Riders\", color=\"red\", linestyle=\"-\")\n",
    "plt.title(\"Accuracy over Rounds\")\n",
    "plt.xlabel(\"Rounds\")\n",
    "plt.ylabel(\"Accuracy\")\n",
    "plt.legend()\n",
    "plt.grid(True)\n",
    "\n",
    "plt.tight_layout()\n",
    "plt.show()\n"
   ]
  }
 ],
 "metadata": {
  "colab": {
   "provenance": []
  },
  "kernelspec": {
   "display_name": "spam_email_detect",
   "language": "python",
   "name": "python3"
  },
  "language_info": {
   "codemirror_mode": {
    "name": "ipython",
    "version": 3
   },
   "file_extension": ".py",
   "mimetype": "text/x-python",
   "name": "python",
   "nbconvert_exporter": "python",
   "pygments_lexer": "ipython3",
   "version": "3.9.20"
  }
 },
 "nbformat": 4,
 "nbformat_minor": 0
}
